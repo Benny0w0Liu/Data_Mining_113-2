{
 "cells": [
  {
   "cell_type": "code",
   "execution_count": 6,
   "id": "9a012b3a",
   "metadata": {},
   "outputs": [],
   "source": [
    "classfication=\"RF\""
   ]
  },
  {
   "cell_type": "code",
   "execution_count": 7,
   "id": "4bbef9be",
   "metadata": {},
   "outputs": [
    {
     "name": "stdout",
     "output_type": "stream",
     "text": [
      "clustering_result.csv has been saved with IDs and formatted cluster labels.\n"
     ]
    }
   ],
   "source": [
    "import numpy as np\n",
    "import pandas as pd\n",
    "from collections import deque\n",
    "\n",
    "# 讀取未知類別資料，包含 id 欄位\n",
    "unknown_data_df = pd.read_csv(rf\"D:\\Github\\Data_Mining_113-2\\Data_Mining_Final\\classification\\result\\{classfication}_unknown.csv\")\n",
    "unknown_ids = unknown_data_df['id'].values\n",
    "data = unknown_data_df.drop(columns=['id']).values\n",
    "\n",
    "# 自訂參數\n",
    "eps = 200     # 鄰域半徑\n",
    "min_pts = 5   # 最小點數構成核心點\n",
    "\n",
    "def euclidean(p1, p2):\n",
    "    return np.linalg.norm(p1 - p2)\n",
    "\n",
    "def region_query(point_idx, data, eps):\n",
    "    neighbors = []\n",
    "    for i in range(len(data)):\n",
    "        if i != point_idx and euclidean(data[point_idx], data[i]) < eps:\n",
    "            neighbors.append(i)\n",
    "    return neighbors\n",
    "\n",
    "def expand_cluster(data, labels, point_idx, cluster_id, eps, min_pts):\n",
    "    neighbors = region_query(point_idx, data, eps)\n",
    "    if len(neighbors) < min_pts:\n",
    "        labels[point_idx] = -1  # mark as noise\n",
    "        return False\n",
    "    else:\n",
    "        labels[point_idx] = cluster_id\n",
    "        queue = deque(neighbors)\n",
    "        \n",
    "        while queue:\n",
    "            current_idx = queue.popleft()\n",
    "            \n",
    "            # if current_idx is noise or unvisited\n",
    "            if labels[current_idx] == -1:\n",
    "                labels[current_idx] = cluster_id # assign noise point to current cluster\n",
    "            elif labels[current_idx] == 0: # if unvisited, assign to cluster and explore its neighbors\n",
    "                labels[current_idx] = cluster_id\n",
    "                current_neighbors = region_query(current_idx, data, eps)\n",
    "                if len(current_neighbors) >= min_pts: # if current_idx is a core point, add its neighbors to queue\n",
    "                    queue.extend(current_neighbors)\n",
    "        return True\n",
    "\n",
    "def dbscan(data, eps, min_pts):\n",
    "    labels = [0] * len(data)  # 0: unvisited, -1: noise, >0: cluster ID\n",
    "    cluster_id = 0\n",
    "    for i in range(len(data)):\n",
    "        if labels[i] == 0:\n",
    "            if expand_cluster(data, labels, i, cluster_id + 1, eps, min_pts):\n",
    "                cluster_id += 1\n",
    "    return labels\n",
    "\n",
    "# 執行 DBSCAN\n",
    "cluster_labels_numeric = dbscan(data, eps, min_pts)\n",
    "\n",
    "# 將數值分群結果轉換為 'unknown X' 字串格式\n",
    "# 噪音點 (-1) 也會被表示為 'unknown -1'\n",
    "formatted_cluster_labels = ['unknown ' + str(label) for label in cluster_labels_numeric]\n",
    "\n",
    "# 將分群結果與原始 ID 結合\n",
    "clustering_result_df = pd.DataFrame({\n",
    "    'id': unknown_ids,\n",
    "    'Class': formatted_cluster_labels # Changed column name to 'Class'\n",
    "})\n",
    "\n",
    "# 儲存分群結果\n",
    "clustering_result_df.to_csv(rf\"D:\\Github\\Data_Mining_113-2\\Data_Mining_Final\\clustering\\result\\{classfication}-DBSCAN_clustering_result.csv\", index=False)\n",
    "\n",
    "print(\"clustering_result.csv has been saved with IDs and formatted cluster labels.\")"
   ]
  },
  {
   "cell_type": "code",
   "execution_count": 8,
   "id": "a5ec231b",
   "metadata": {},
   "outputs": [
    {
     "name": "stdout",
     "output_type": "stream",
     "text": [
      "132\n",
      "10\n",
      "77\n"
     ]
    }
   ],
   "source": [
    "print(np.sum(clustering_result_df[\"Class\"]==\"unknown 1\"))\n",
    "print(np.sum(clustering_result_df[\"Class\"]==\"unknown -1\"))\n",
    "print(np.sum(clustering_result_df[\"Class\"]==\"unknown 2\"))"
   ]
  },
  {
   "cell_type": "code",
   "execution_count": null,
   "id": "d8dc3289",
   "metadata": {},
   "outputs": [],
   "source": []
  }
 ],
 "metadata": {
  "kernelspec": {
   "display_name": "Python 3",
   "language": "python",
   "name": "python3"
  },
  "language_info": {
   "codemirror_mode": {
    "name": "ipython",
    "version": 3
   },
   "file_extension": ".py",
   "mimetype": "text/x-python",
   "name": "python",
   "nbconvert_exporter": "python",
   "pygments_lexer": "ipython3",
   "version": "3.12.4"
  }
 },
 "nbformat": 4,
 "nbformat_minor": 5
}
