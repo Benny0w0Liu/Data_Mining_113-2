{
 "cells": [
  {
   "cell_type": "code",
   "execution_count": null,
   "id": "5f3c2358",
   "metadata": {},
   "outputs": [],
   "source": [
    "import numpy as np\n",
    "import pandas as pd"
   ]
  },
  {
   "cell_type": "code",
   "execution_count": 144,
   "id": "2124b85c",
   "metadata": {},
   "outputs": [],
   "source": [
    "classification = \"KNN\""
   ]
  },
  {
   "cell_type": "code",
   "execution_count": 145,
   "id": "a5a8f0a4",
   "metadata": {},
   "outputs": [],
   "source": [
    "df = pd.read_csv(rf'D:\\Github\\Data_Mining_113-2\\Data_Mining_Final\\classification\\result\\{classification}_unknown.csv')\n",
    "X_ids = df.iloc[:, 0]\n",
    "X = df.iloc[:, 1:]\n",
    "X = X.to_numpy()"
   ]
  },
  {
   "cell_type": "code",
   "execution_count": 146,
   "id": "8b638f25",
   "metadata": {},
   "outputs": [
    {
     "name": "stderr",
     "output_type": "stream",
     "text": [
      "C:\\Users\\Benny\\AppData\\Local\\Temp\\ipykernel_352092\\2982449496.py:3: RuntimeWarning: invalid value encountered in divide\n",
      "  z_scores = (X - np.mean(X, axis=0)) / np.std(X, axis=0)\n"
     ]
    }
   ],
   "source": [
    "n= X.shape[0]\n",
    "\n",
    "z_scores = (X - np.mean(X, axis=0)) / np.std(X, axis=0)\n",
    "outliers = np.abs(z_scores) > 3\n",
    "median = np.median(X, axis=0)\n",
    "X[outliers] = median[np.where(outliers)[1]]\n",
    "\n",
    "X_mean = np.mean(X, axis=0)\n",
    "X_std = np.std(X, axis=0)\n",
    "X_std[X_std == 0] = 1\n",
    "X = (X - X_mean) / X_std"
   ]
  },
  {
   "cell_type": "code",
   "execution_count": 147,
   "id": "1933e85c",
   "metadata": {},
   "outputs": [],
   "source": [
    "num_clusters=2\n",
    "cluster_labels = np.arange(n)  # Initially, each point is its own cluster\n",
    "clusters = {i: [i] for i in range(n)}  # cluster_id -> point indices\n",
    "centroids = {i: X[i].copy() for i in range(n)}  # cluster_id -> centroid\n",
    "sizes = {i: 1 for i in range(n)}  # cluster_id -> size\n",
    "active_clusters = set(range(n))  # Track active clusters"
   ]
  },
  {
   "cell_type": "code",
   "execution_count": null,
   "id": "fc628668",
   "metadata": {},
   "outputs": [
    {
     "data": {
      "text/plain": [
       "array([0, 0, 2, 2, 0, 0, 0, 0, 0, 0, 0, 0, 0, 0, 2, 2, 2, 2, 2, 2, 2, 2,\n",
       "       0, 2, 2, 2, 2, 0, 2, 0, 0, 2, 0, 2, 2, 0, 2, 2, 2, 2, 2, 2, 0, 2,\n",
       "       0, 2, 2, 2, 2, 2, 0, 0, 0, 2, 0, 2, 2, 2, 2, 2, 0, 2, 0, 2, 2, 2,\n",
       "       2, 2, 2, 2, 2, 2, 2, 0, 2, 0, 2, 0, 2, 0, 2, 2, 2, 2, 0, 0, 0, 0,\n",
       "       2, 0, 2, 2, 2, 0, 2, 0, 2, 0, 2, 0, 2, 2, 2, 0, 2, 0, 0, 0, 0, 2,\n",
       "       0, 2, 2, 2, 0, 0, 0, 2, 0, 2, 0, 2, 2, 2, 2, 0, 2, 2, 0, 2, 2, 0,\n",
       "       2, 2, 0, 2, 0, 2, 0, 2, 2, 2, 2, 2, 0, 0, 2, 2, 0, 0, 2, 2, 2, 2,\n",
       "       0, 0, 2, 0, 0, 2, 0, 2, 0, 2, 0, 2, 2, 2, 0, 2, 0, 0, 0, 2, 2, 0,\n",
       "       2, 2, 0, 0, 2, 0, 2, 0, 0, 2, 2, 2, 2, 2, 0, 0, 0, 2, 2, 2, 2, 2,\n",
       "       2, 2, 0, 0, 2, 2, 2, 0, 2, 2, 2, 0, 2, 0, 2, 2, 0, 0, 2, 2, 2, 0,\n",
       "       2, 2])"
      ]
     },
     "execution_count": 148,
     "metadata": {},
     "output_type": "execute_result"
    }
   ],
   "source": [
    "while len(active_clusters) > num_clusters:\n",
    "    min_increase = np.inf\n",
    "    best_pair = None\n",
    "\n",
    "    active_list = list(active_clusters)\n",
    "    for i in range(len(active_list)):\n",
    "        for j in range(i + 1, len(active_list)):\n",
    "            ci = active_list[i]\n",
    "            cj = active_list[j]\n",
    "\n",
    "            ni, nj = sizes[ci], sizes[cj]\n",
    "            mi, mj = centroids[ci], centroids[cj]\n",
    "\n",
    "            # Ward's criterion\n",
    "            dist = np.sum((mi - mj) ** 2)\n",
    "            increase = (ni * nj) / (ni + nj) * dist\n",
    "\n",
    "            if increase < min_increase:\n",
    "                min_increase = increase\n",
    "                best_pair = (ci, cj)\n",
    "\n",
    "    # Merge best_pair\n",
    "    ci, cj = best_pair\n",
    "    new_points = clusters[ci] + clusters[cj]\n",
    "\n",
    "    # Update\n",
    "    clusters[ci] = new_points\n",
    "    centroids[ci] = np.mean(X[new_points], axis=0)\n",
    "    sizes[ci] = len(new_points)\n",
    "\n",
    "    for idx in clusters[cj]:\n",
    "        cluster_labels[idx] = ci\n",
    "\n",
    "    # Cleanup\n",
    "    clusters.pop(cj)\n",
    "    centroids.pop(cj)\n",
    "    sizes.pop(cj)\n",
    "    active_clusters.remove(cj)\n",
    "\n",
    "    print(clusters)\n",
    "\n"
   ]
  },
  {
   "cell_type": "code",
   "execution_count": null,
   "id": "d575d29b",
   "metadata": {},
   "outputs": [],
   "source": [
    "cluster_labels#result"
   ]
  }
 ],
 "metadata": {
  "kernelspec": {
   "display_name": "Python 3",
   "language": "python",
   "name": "python3"
  },
  "language_info": {
   "codemirror_mode": {
    "name": "ipython",
    "version": 3
   },
   "file_extension": ".py",
   "mimetype": "text/x-python",
   "name": "python",
   "nbconvert_exporter": "python",
   "pygments_lexer": "ipython3",
   "version": "3.12.4"
  }
 },
 "nbformat": 4,
 "nbformat_minor": 5
}
