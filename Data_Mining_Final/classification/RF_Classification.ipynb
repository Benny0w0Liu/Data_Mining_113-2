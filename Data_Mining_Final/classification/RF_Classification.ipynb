{
  "nbformat": 4,
  "nbformat_minor": 0,
  "metadata": {
    "colab": {
      "provenance": []
    },
    "kernelspec": {
      "name": "python3",
      "display_name": "Python 3"
    },
    "language_info": {
      "name": "python"
    }
  },
  "cells": [
    {
      "cell_type": "code",
      "source": [
        "!pip install scikit-learn pandas"
      ],
      "metadata": {
        "colab": {
          "base_uri": "https://localhost:8080/"
        },
        "id": "WdpEJOlyu_Wt",
        "outputId": "2f51314c-711b-4b14-c201-adc64a7970c4"
      },
      "execution_count": 29,
      "outputs": [
        {
          "output_type": "stream",
          "name": "stdout",
          "text": [
            "Requirement already satisfied: scikit-learn in /usr/local/lib/python3.11/dist-packages (1.6.1)\n",
            "Requirement already satisfied: pandas in /usr/local/lib/python3.11/dist-packages (2.2.2)\n",
            "Requirement already satisfied: numpy>=1.19.5 in /usr/local/lib/python3.11/dist-packages (from scikit-learn) (2.0.2)\n",
            "Requirement already satisfied: scipy>=1.6.0 in /usr/local/lib/python3.11/dist-packages (from scikit-learn) (1.15.3)\n",
            "Requirement already satisfied: joblib>=1.2.0 in /usr/local/lib/python3.11/dist-packages (from scikit-learn) (1.5.1)\n",
            "Requirement already satisfied: threadpoolctl>=3.1.0 in /usr/local/lib/python3.11/dist-packages (from scikit-learn) (3.6.0)\n",
            "Requirement already satisfied: python-dateutil>=2.8.2 in /usr/local/lib/python3.11/dist-packages (from pandas) (2.9.0.post0)\n",
            "Requirement already satisfied: pytz>=2020.1 in /usr/local/lib/python3.11/dist-packages (from pandas) (2025.2)\n",
            "Requirement already satisfied: tzdata>=2022.7 in /usr/local/lib/python3.11/dist-packages (from pandas) (2025.2)\n",
            "Requirement already satisfied: six>=1.5 in /usr/local/lib/python3.11/dist-packages (from python-dateutil>=2.8.2->pandas) (1.17.0)\n"
          ]
        }
      ]
    },
    {
      "cell_type": "code",
      "source": [
        "from google.colab import drive\n",
        "drive.mount('/content/drive')"
      ],
      "metadata": {
        "colab": {
          "base_uri": "https://localhost:8080/"
        },
        "id": "nqmHZlvwvILF",
        "outputId": "f2b5caf7-1aeb-4709-af0b-ed022dc1215c"
      },
      "execution_count": 28,
      "outputs": [
        {
          "output_type": "stream",
          "name": "stdout",
          "text": [
            "Drive already mounted at /content/drive; to attempt to forcibly remount, call drive.mount(\"/content/drive\", force_remount=True).\n"
          ]
        }
      ]
    },
    {
      "cell_type": "code",
      "execution_count": 34,
      "metadata": {
        "id": "rQKRsWvpuSDB"
      },
      "outputs": [],
      "source": [
        "import pandas as pd\n",
        "import numpy as np\n",
        "import seaborn as sns\n",
        "import matplotlib.pyplot as plt\n",
        "from sklearn.ensemble import RandomForestClassifier\n",
        "from sklearn.impute import SimpleImputer\n",
        "from sklearn.metrics import accuracy_score, confusion_matrix, classification_report\n",
        "from sklearn.preprocessing import LabelEncoder"
      ]
    },
    {
      "cell_type": "code",
      "source": [
        "train_data = pd.read_csv(\"/content/drive/MyDrive/train_data.csv\")\n",
        "train_label = pd.read_csv(\"/content/drive/MyDrive/train_label.csv\")\n",
        "test_data  = pd.read_csv(\"/content/drive/MyDrive/test_data.csv\")\n",
        "test_label = pd.read_csv(\"/content/drive/MyDrive/test_label.csv\")\n",
        "\n",
        "df_train = train_data.merge(train_label, on=\"id\", how=\"inner\")\n",
        "\n",
        "X_train = df_train.drop(columns=[\"id\", \"Class\"]).values\n",
        "y_train_text = df_train[\"Class\"].values\n",
        "\n",
        "ids_test = test_data[\"id\"].values\n",
        "X_test  = test_data.drop(columns=[\"id\"]).values\n",
        "\n",
        "imputer = SimpleImputer(missing_values=np.nan, strategy=\"mean\")\n",
        "\n",
        "X_train_imputed = imputer.fit_transform(X_train)\n",
        "X_test_imputed  = imputer.transform(X_test)\n",
        "le = LabelEncoder()\n",
        "y_train = le.fit_transform(y_train_text)\n",
        "\n",
        "rf = RandomForestClassifier(\n",
        "    n_estimators=100,\n",
        "    random_state=42,\n",
        "    n_jobs=-1\n",
        ")\n",
        "rf.fit(X_train_imputed, y_train)\n",
        "\n",
        "proba = rf.predict_proba(X_test_imputed)\n",
        "y_pred_int = np.argmax(proba, axis=1)\n",
        "confidence_scores = np.max(proba, axis=1)\n",
        "y_pred_text = le.inverse_transform(y_pred_int)\n",
        "threshold = 0.75\n",
        "temp_df = pd.DataFrame({\n",
        "    \"id\": ids_test,\n",
        "    \"Class\": y_pred_text,\n",
        "    \"confidence\": confidence_scores\n",
        "})\n",
        "\n",
        "known_ids   = temp_df.loc[temp_df[\"confidence\"] >= threshold, \"id\"].values\n",
        "unknown_ids = temp_df.loc[temp_df[\"confidence\"] <  threshold, \"id\"].values\n",
        "known_df_label = temp_df.loc[temp_df[\"id\"].isin(known_ids), [\"id\", \"Class\"]]\n",
        "known_df_label.to_csv(\"/content/drive/MyDrive/RF_known.csv\", index=False)\n",
        "unknown_full = test_data.loc[test_data[\"id\"].isin(unknown_ids)].copy()\n",
        "unknown_full.to_csv(\"/content/drive/MyDrive/RF_unknown.csv\", index=False)"
      ],
      "metadata": {
        "colab": {
          "base_uri": "https://localhost:8080/"
        },
        "id": "4yk1ajP30EqK",
        "outputId": "35fb1d31-44d0-496d-c2bf-7d8e9160ae13"
      },
      "execution_count": 42,
      "outputs": [
        {
          "output_type": "stream",
          "name": "stdout",
          "text": [
            "113\n",
            "219\n"
          ]
        }
      ]
    }
  ]
}