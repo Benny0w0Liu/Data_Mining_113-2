{
  "cells": [
    {
      "cell_type": "code",
      "execution_count": 3,
      "metadata": {
        "id": "rQKRsWvpuSDB"
      },
      "outputs": [],
      "source": [
        "import pandas as pd\n",
        "import numpy as np\n",
        "from sklearn.ensemble import RandomForestClassifier\n",
        "from sklearn.impute import SimpleImputer\n",
        "from sklearn.preprocessing import LabelEncoder"
      ]
    },
    {
      "cell_type": "code",
      "execution_count": 2,
      "metadata": {
        "colab": {
          "base_uri": "https://localhost:8080/"
        },
        "id": "4yk1ajP30EqK",
        "outputId": "35fb1d31-44d0-496d-c2bf-7d8e9160ae13"
      },
      "outputs": [],
      "source": [
        "train_data = pd.read_csv(r\"D:\\Github\\Data_Mining_113-2\\Data_Mining_Final\\dataset\\train_data.csv\")\n",
        "train_label = pd.read_csv(r\"D:\\Github\\Data_Mining_113-2\\Data_Mining_Final\\dataset\\train_label.csv\")\n",
        "test_data  = pd.read_csv(r\"D:\\Github\\Data_Mining_113-2\\Data_Mining_Final\\dataset\\test_data.csv\")\n",
        "\n",
        "df_train = train_data.merge(train_label, on=\"id\", how=\"inner\")\n",
        "\n",
        "X_train = df_train.drop(columns=[\"id\", \"Class\"]).values\n",
        "y_train_text = df_train[\"Class\"].values\n",
        "\n",
        "ids_test = test_data[\"id\"].values\n",
        "X_test  = test_data.drop(columns=[\"id\"]).values\n",
        "\n",
        "imputer = SimpleImputer(missing_values=np.nan, strategy=\"mean\")\n",
        "\n",
        "X_train_imputed = imputer.fit_transform(X_train)\n",
        "X_test_imputed  = imputer.transform(X_test)\n",
        "le = LabelEncoder()\n",
        "y_train = le.fit_transform(y_train_text)\n",
        "\n",
        "rf = RandomForestClassifier(\n",
        "    n_estimators=100,\n",
        "    random_state=42,\n",
        "    n_jobs=-1\n",
        ")\n",
        "rf.fit(X_train_imputed, y_train)\n",
        "\n",
        "proba = rf.predict_proba(X_test_imputed)\n",
        "y_pred_int = np.argmax(proba, axis=1)\n",
        "confidence_scores = np.max(proba, axis=1)\n",
        "y_pred_text = le.inverse_transform(y_pred_int)\n",
        "threshold = 0.75\n",
        "temp_df = pd.DataFrame({\n",
        "    \"id\": ids_test,\n",
        "    \"Class\": y_pred_text,\n",
        "    \"confidence\": confidence_scores\n",
        "})\n",
        "\n",
        "known_ids   = temp_df.loc[temp_df[\"confidence\"] >= threshold, \"id\"].values\n",
        "unknown_ids = temp_df.loc[temp_df[\"confidence\"] <  threshold, \"id\"].values\n",
        "known_df_label = temp_df.loc[temp_df[\"id\"].isin(known_ids), [\"id\", \"Class\"]]\n",
        "known_df_label.to_csv(r\"D:\\Github\\Data_Mining_113-2\\Data_Mining_Final\\classification\\result\\RF_known.csv\", index=False)\n",
        "unknown_full = test_data.loc[test_data[\"id\"].isin(unknown_ids)].copy()\n",
        "unknown_full.to_csv(r\"D:\\Github\\Data_Mining_113-2\\Data_Mining_Final\\classification\\result\\RF_unknown.csv\", index=False)"
      ]
    }
  ],
  "metadata": {
    "colab": {
      "provenance": []
    },
    "kernelspec": {
      "display_name": "Python 3",
      "name": "python3"
    },
    "language_info": {
      "codemirror_mode": {
        "name": "ipython",
        "version": 3
      },
      "file_extension": ".py",
      "mimetype": "text/x-python",
      "name": "python",
      "nbconvert_exporter": "python",
      "pygments_lexer": "ipython3",
      "version": "3.12.4"
    }
  },
  "nbformat": 4,
  "nbformat_minor": 0
}
