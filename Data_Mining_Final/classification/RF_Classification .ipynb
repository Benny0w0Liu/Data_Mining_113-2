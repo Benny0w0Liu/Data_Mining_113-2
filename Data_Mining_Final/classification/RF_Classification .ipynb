{
  "nbformat": 4,
  "nbformat_minor": 0,
  "metadata": {
    "colab": {
      "provenance": []
    },
    "kernelspec": {
      "name": "python3",
      "display_name": "Python 3"
    },
    "language_info": {
      "name": "python"
    }
  },
  "cells": [
    {
      "cell_type": "code",
      "source": [
        "!pip install scikit-learn pandas"
      ],
      "metadata": {
        "colab": {
          "base_uri": "https://localhost:8080/"
        },
        "id": "WdpEJOlyu_Wt",
        "outputId": "bbd4f374-5408-4dcd-fbbb-8a235e422861"
      },
      "execution_count": 19,
      "outputs": [
        {
          "output_type": "stream",
          "name": "stdout",
          "text": [
            "Requirement already satisfied: scikit-learn in /usr/local/lib/python3.11/dist-packages (1.6.1)\n",
            "Requirement already satisfied: pandas in /usr/local/lib/python3.11/dist-packages (2.2.2)\n",
            "Requirement already satisfied: numpy>=1.19.5 in /usr/local/lib/python3.11/dist-packages (from scikit-learn) (2.0.2)\n",
            "Requirement already satisfied: scipy>=1.6.0 in /usr/local/lib/python3.11/dist-packages (from scikit-learn) (1.15.3)\n",
            "Requirement already satisfied: joblib>=1.2.0 in /usr/local/lib/python3.11/dist-packages (from scikit-learn) (1.5.1)\n",
            "Requirement already satisfied: threadpoolctl>=3.1.0 in /usr/local/lib/python3.11/dist-packages (from scikit-learn) (3.6.0)\n",
            "Requirement already satisfied: python-dateutil>=2.8.2 in /usr/local/lib/python3.11/dist-packages (from pandas) (2.9.0.post0)\n",
            "Requirement already satisfied: pytz>=2020.1 in /usr/local/lib/python3.11/dist-packages (from pandas) (2025.2)\n",
            "Requirement already satisfied: tzdata>=2022.7 in /usr/local/lib/python3.11/dist-packages (from pandas) (2025.2)\n",
            "Requirement already satisfied: six>=1.5 in /usr/local/lib/python3.11/dist-packages (from python-dateutil>=2.8.2->pandas) (1.17.0)\n"
          ]
        }
      ]
    },
    {
      "cell_type": "code",
      "source": [
        "from google.colab import drive\n",
        "drive.mount('/content/drive')"
      ],
      "metadata": {
        "colab": {
          "base_uri": "https://localhost:8080/"
        },
        "id": "nqmHZlvwvILF",
        "outputId": "3c58f86a-5349-497d-b014-c2895340dcc2"
      },
      "execution_count": 20,
      "outputs": [
        {
          "output_type": "stream",
          "name": "stdout",
          "text": [
            "Drive already mounted at /content/drive; to attempt to forcibly remount, call drive.mount(\"/content/drive\", force_remount=True).\n"
          ]
        }
      ]
    },
    {
      "cell_type": "code",
      "execution_count": 21,
      "metadata": {
        "id": "rQKRsWvpuSDB"
      },
      "outputs": [],
      "source": [
        "import pandas as pd\n",
        "import numpy as np\n",
        "import seaborn as sns\n",
        "import matplotlib.pyplot as plt\n",
        "from sklearn.ensemble import RandomForestClassifier\n",
        "from sklearn.impute import SimpleImputer\n",
        "from sklearn.metrics import accuracy_score, confusion_matrix, classification_report"
      ]
    },
    {
      "cell_type": "code",
      "source": [
        "def main():\n",
        "  train_data = pd.read_csv(\"/content/drive/MyDrive/train_data.csv\", header=None)\n",
        "  train_label = pd.read_csv(\"/content/drive/MyDrive/train_label.csv\", header=None).squeeze()\n",
        "  test_data  = pd.read_csv(\"/content/drive/MyDrive/test_data.csv\", header=None)\n",
        "  test_label = pd.read_csv(\"/content/drive/MyDrive/test_label.csv\", header=None).squeeze()\n",
        "\n",
        "  # 處理 NaN -> 用平均值填補\n",
        "  imputer = SimpleImputer(strategy=\"mean\")\n",
        "\n",
        "  train_data_imputed = imputer.fit_transform(train_data)\n",
        "  test_data_imputed  = imputer.transform(test_data)\n",
        "\n",
        "  rf = RandomForestClassifier(random_state=42, n_jobs=-1)\n",
        "  rf.fit(train_data_imputed, train_label)\n",
        "\n",
        "  # 找到機率最高的類別\n",
        "  y_pred = rf.predict(test_data_imputed)\n",
        "  y_proba = rf.predict_proba(test_data_imputed)\n",
        "  confidence_scores = np.max(y_proba, axis=1)\n",
        "  predicted_classes  = rf.classes_[np.argmax(y_proba, axis=1)]\n",
        "\n",
        "  # 結果悶ㄦ\n",
        "  print(\"Random Forest Classification result\")\n",
        "  print(f\"Accuracy:\", accuracy_score(test_label, y_pred))\n",
        "  print(\"Classification Report:\\n\", classification_report(test_label, y_pred))\n",
        "  print(\"\\nConfusion Matrix:\")\n",
        "\n",
        "  # confusion matrix 視覺化\n",
        "  conf_matrix = confusion_matrix(test_label, y_pred)\n",
        "  sns.heatmap(conf_matrix, annot=True, fmt='d', cmap='Blues')\n",
        "  plt.title(f\"Confusion Matrix\")\n",
        "  plt.xlabel(\"Predicted Value\")\n",
        "  plt.ylabel(\"Actual Value\")\n",
        "  plt.show()\n",
        "\n",
        "  threshold = 0.7  # confidence門檻\n",
        "\n",
        "  results_df = pd.DataFrame(test_data_imputed)\n",
        "  results_df[\"true_label\"] = test_label.values\n",
        "  results_df[\"pred_label\"] = y_pred\n",
        "  results_df[\"confidence\"] = confidence_scores\n",
        "\n",
        "  known_df   = results_df[results_df[\"confidence\"] >= threshold]\n",
        "  unknown_df = results_df[results_df[\"confidence\"] < threshold]\n",
        "\n",
        "  known_df.to_csv(\"/content/drive/MyDrive/RF_known.csv\", index=False)\n",
        "  unknown_df.to_csv(\"/content/drive/MyDrive/RF_unknown.csv\", index=False)\n",
        "\n",
        "  \"\"\"\n",
        "  觀察結果用ㄉ\n",
        "  results_df = pd.DataFrame({\n",
        "      \"true_label\": test_label.values,\n",
        "      \"pred_label\": y_pred,\n",
        "      \"confidence\": confidence_scores\n",
        "  })\n",
        "\n",
        "  print(\"\\n--- 前 10 sample 的 prediction & confident score---\")\n",
        "  print(results_df.head(10))\n",
        "  \"\"\""
      ],
      "metadata": {
        "id": "_kkCA4kKufzg"
      },
      "execution_count": 23,
      "outputs": []
    },
    {
      "cell_type": "code",
      "source": [
        "if __name__ == \"__main__\":\n",
        "    main()"
      ],
      "metadata": {
        "colab": {
          "base_uri": "https://localhost:8080/",
          "height": 1000
        },
        "id": "rZ8BE4RSum1D",
        "outputId": "9e7606e7-50e7-4da6-daa6-41ad0b993f7c"
      },
      "execution_count": 24,
      "outputs": [
        {
          "output_type": "stream",
          "name": "stdout",
          "text": [
            "Random Forest Classification result\n",
            "Accuracy: 0.37341772151898733\n",
            "Classification Report:\n",
            "               precision    recall  f1-score   support\n",
            "\n",
            "           1       0.38      0.96      0.54        50\n",
            "           2       0.23      0.71      0.34         7\n",
            "           3       0.60      1.00      0.75         3\n",
            "           4       0.50      1.00      0.67         1\n",
            "           5       1.00      0.33      0.50         3\n",
            "           6       1.00      0.33      0.50         3\n",
            "           8       0.00      0.00      0.00         1\n",
            "           9       0.00      0.00      0.00         9\n",
            "          10       0.00      0.00      0.00        50\n",
            "          11       0.00      0.00      0.00         4\n",
            "          12       0.00      0.00      0.00         5\n",
            "          13       0.00      0.00      0.00        22\n",
            "\n",
            "    accuracy                           0.37       158\n",
            "   macro avg       0.31      0.36      0.28       158\n",
            "weighted avg       0.18      0.37      0.22       158\n",
            "\n",
            "\n",
            "Confusion Matrix:\n"
          ]
        },
        {
          "output_type": "stream",
          "name": "stderr",
          "text": [
            "/usr/local/lib/python3.11/dist-packages/sklearn/metrics/_classification.py:1565: UndefinedMetricWarning: Precision is ill-defined and being set to 0.0 in labels with no predicted samples. Use `zero_division` parameter to control this behavior.\n",
            "  _warn_prf(average, modifier, f\"{metric.capitalize()} is\", len(result))\n",
            "/usr/local/lib/python3.11/dist-packages/sklearn/metrics/_classification.py:1565: UndefinedMetricWarning: Precision is ill-defined and being set to 0.0 in labels with no predicted samples. Use `zero_division` parameter to control this behavior.\n",
            "  _warn_prf(average, modifier, f\"{metric.capitalize()} is\", len(result))\n",
            "/usr/local/lib/python3.11/dist-packages/sklearn/metrics/_classification.py:1565: UndefinedMetricWarning: Precision is ill-defined and being set to 0.0 in labels with no predicted samples. Use `zero_division` parameter to control this behavior.\n",
            "  _warn_prf(average, modifier, f\"{metric.capitalize()} is\", len(result))\n"
          ]
        },
        {
          "output_type": "display_data",
          "data": {
            "text/plain": [
              "<Figure size 640x480 with 2 Axes>"
            ],
            "image/png": "[encoded data removed]"
          },
          "metadata": {}
        }
      ]
    }
  ]
}