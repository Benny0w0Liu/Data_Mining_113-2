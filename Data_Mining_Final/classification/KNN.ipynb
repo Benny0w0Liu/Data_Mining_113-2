{
 "cells": [
  {
   "cell_type": "markdown",
   "id": "2e93f6d8",
   "metadata": {},
   "source": [
    "import library"
   ]
  },
  {
   "cell_type": "code",
   "execution_count": null,
   "id": "056170c3",
   "metadata": {},
   "outputs": [],
   "source": [
    "import pandas as pd\n",
    "import numpy as np\n",
    "from collections import Counter"
   ]
  },
  {
   "cell_type": "markdown",
   "id": "b062714b",
   "metadata": {},
   "source": [
    "load data"
   ]
  },
  {
   "cell_type": "code",
   "execution_count": null,
   "id": "3793e59b",
   "metadata": {},
   "outputs": [],
   "source": [
    "train_df = pd.read_csv(r\"D:\\Github\\Data_Mining_113-2\\Data_Mining_Final\\dataset\\train_data.csv\")\n",
    "train_labels_df = pd.read_csv(r\"D:\\Github\\Data_Mining_113-2\\Data_Mining_Final\\dataset\\train_label.csv\")\n",
    "test_df = pd.read_csv(r\"D:\\Github\\Data_Mining_113-2\\Data_Mining_Final\\dataset\\test_data.csv\")\n",
    "\n",
    "train_ids = train_df.iloc[:, 0]\n",
    "test_ids = test_df.iloc[:, 0]\n",
    "X_train = train_df.iloc[:, 1:]\n",
    "y_train = train_labels_df.iloc[:, 1]\n",
    "X_test = test_df.iloc[:, 1:]"
   ]
  },
  {
   "cell_type": "markdown",
   "id": "442d175f",
   "metadata": {},
   "source": [
    "KNN"
   ]
  },
  {
   "cell_type": "code",
   "execution_count": null,
   "id": "ae839515",
   "metadata": {},
   "outputs": [],
   "source": [
    "test_result={\"id\":[],\"label\":[],\"avgdis\":[]}\n",
    "k=5\n",
    "X_train = np.array(X_train)\n",
    "y_train = np.array(y_train)\n",
    "X_test = np.array(X_test)\n",
    "\n",
    "def euclidean_distance(x1, x2):\n",
    "    return np.sqrt(np.sum((x1 - x2) ** 2))\n",
    "\n",
    "results = []\n",
    "avg_dis = []\n",
    "for x in X_test:\n",
    "    distances = [euclidean_distance(x, x_train) for x_train in X_train]\n",
    "    k_indices = np.argsort(distances)[:k]\n",
    "    k_nearest = [(y_train[i], distances[i]) for i in k_indices]\n",
    "    labels = [label for label, _ in k_nearest]\n",
    "    most_common = Counter(labels).most_common(1)[0][0]\n",
    "    results.append(most_common)\n",
    "    avg_dis.append(np.mean([distance for _, distance in k_nearest]))\n",
    "df = pd.DataFrame({\"id\": test_ids, \"most_possible_label\": results, \"avg_dis\": avg_dis})"
   ]
  },
  {
   "cell_type": "markdown",
   "id": "67469295",
   "metadata": {},
   "source": [
    "Get each lable in train data that nearlist distance with neighbor"
   ]
  },
  {
   "cell_type": "code",
   "execution_count": 70,
   "id": "081f64d0",
   "metadata": {},
   "outputs": [
    {
     "name": "stdout",
     "output_type": "stream",
     "text": [
      "{'KIRC': np.float64(120.32907067531288), 'BRCA': np.float64(136.67754293848077), 'LUAD': np.float64(142.04360656843)}\n"
     ]
    }
   ],
   "source": [
    "train_avg_dis = {}\n",
    "for x in range(len(X_train)):\n",
    "    distances = [euclidean_distance(X_train[x], x_train) for x_train in X_train]\n",
    "    k_indices = np.argsort(distances)[:k]\n",
    "    if(train_avg_dis.get(y_train[x])==None): train_avg_dis[y_train[x]] = 0\n",
    "    train_avg_dis[y_train[x]] += np.mean([distances[i] for i in k_indices])\n",
    "for key in train_avg_dis:\n",
    "    train_avg_dis[key] = train_avg_dis[key] / Counter(y_train)[key]\n",
    "print(train_avg_dis)"
   ]
  },
  {
   "cell_type": "markdown",
   "id": "62d510de",
   "metadata": {},
   "source": [
    "Get known sample & unknown sample"
   ]
  },
  {
   "cell_type": "code",
   "execution_count": 71,
   "id": "d4bdfb9b",
   "metadata": {},
   "outputs": [
    {
     "name": "stdout",
     "output_type": "stream",
     "text": [
      "number of known sample: 110 \n",
      "number of unknown sample: 222\n"
     ]
    }
   ],
   "source": [
    "known_sample_id = []\n",
    "known_sample_label = []\n",
    "unknown_sample_id = []\n",
    "for i in range(len(df)):\n",
    "    if(df.iloc[i, 2] <= train_avg_dis[df.iloc[i, 1]]* 1.5):\n",
    "        known_sample_id.append(df.iloc[i, 0])\n",
    "        known_sample_label.append(df.iloc[i, 1])\n",
    "    else:\n",
    "        unknown_sample_id.append(df.iloc[i, 0])\n",
    "\n",
    "known_sample = pd.DataFrame({\"id\": known_sample_id, \"label\": known_sample_label})\n",
    "known_sample.to_csv(r\"D:\\Github\\Data_Mining_113-2\\Data_Mining_Final\\classification\\result\\KNN_known.csv\", index=False)    \n",
    "unknown_sample=test_df[~test_df[\"id\"].isin(known_sample_id)]\n",
    "pd.DataFrame(unknown_sample).to_csv(r\"D:\\Github\\Data_Mining_113-2\\Data_Mining_Final\\classification\\result\\KNN_unknown.csv\", index=False)\n",
    "\n",
    "print(\"number of known sample:\", len(known_sample_id),\"\\nnumber of unknown sample:\",  len(unknown_sample_id))"
   ]
  }
 ],
 "metadata": {
  "kernelspec": {
   "display_name": "Python 3",
   "language": "python",
   "name": "python3"
  },
  "language_info": {
   "codemirror_mode": {
    "name": "ipython",
    "version": 3
   },
   "file_extension": ".py",
   "mimetype": "text/x-python",
   "name": "python",
   "nbconvert_exporter": "python",
   "pygments_lexer": "ipython3",
   "version": "3.12.4"
  }
 },
 "nbformat": 4,
 "nbformat_minor": 5
}
