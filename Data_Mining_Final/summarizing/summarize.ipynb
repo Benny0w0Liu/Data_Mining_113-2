{
 "cells": [
  {
   "cell_type": "code",
   "execution_count": 2,
   "id": "a08ff1a2",
   "metadata": {},
   "outputs": [],
   "source": [
    "import pandas as pd\n",
    "import numpy as np"
   ]
  },
  {
   "cell_type": "code",
   "execution_count": 3,
   "id": "0f12071e",
   "metadata": {},
   "outputs": [
    {
     "name": "stdout",
     "output_type": "stream",
     "text": [
      "KNN-Agglomerative finish concat\n",
      "KNN-DBSCAN finish concat\n",
      "KNN-Spectral finish concat\n",
      "RF-Agglomerative finish concat\n",
      "RF-DBSCAN finish concat\n",
      "RF-Spectral finish concat\n"
     ]
    }
   ],
   "source": [
    "result_of_all={}\n",
    "result_of_all[\"KNN-Agglomerative\"]=pd.read_csv(r\"D:\\Github\\Data_Mining_113-2\\Data_Mining_Final\\clustering\\result\\KNN-Agglomerative_clustering_result.csv\")\n",
    "result_of_all[\"KNN-DBSCAN\"]=pd.read_csv(r\"D:\\Github\\Data_Mining_113-2\\Data_Mining_Final\\clustering\\result\\KNN-DBSCAN_clustering_result.csv\")\n",
    "result_of_all[\"KNN-Spectral\"]=pd.read_csv(r\"D:\\Github\\Data_Mining_113-2\\Data_Mining_Final\\clustering\\result\\KNN-Spectral_clustering_result.csv\")\n",
    "result_of_all[\"RF-Agglomerative\"]=pd.read_csv(r\"D:\\Github\\Data_Mining_113-2\\Data_Mining_Final\\clustering\\result\\RF-Agglomerative_clustering_result.csv\")\n",
    "result_of_all[\"RF-DBSCAN\"]=pd.read_csv(r\"D:\\Github\\Data_Mining_113-2\\Data_Mining_Final\\clustering\\result\\RF-DBSCAN_clustering_result.csv\")\n",
    "result_of_all[\"RF-Spectral\"]=pd.read_csv(r\"D:\\Github\\Data_Mining_113-2\\Data_Mining_Final\\clustering\\result\\RF-Spectral_clustering_result.csv\")\n",
    "KNN_df= pd.read_csv(r\"D:\\Github\\Data_Mining_113-2\\Data_Mining_Final\\classification\\result\\KNN_known.csv\")\n",
    "RF_df= pd.read_csv(r\"D:\\Github\\Data_Mining_113-2\\Data_Mining_Final\\classification\\result\\RF_known.csv\")\n",
    "\n",
    "for key in result_of_all:\n",
    "    if key[:3]==\"KNN\":\n",
    "        result_of_all[key] = pd.concat([pd.DataFrame(result_of_all[key].values), pd.DataFrame(KNN_df.values)], ignore_index=True)\n",
    "    else:\n",
    "        result_of_all[key] = pd.concat([pd.DataFrame(result_of_all[key].values), pd.DataFrame(RF_df.values)], ignore_index=True)\n",
    "    result_of_all[key].rename(columns={0: 'ID', 1: 'Class'}, inplace=True)\n",
    "    result_of_all[key]['Class'] = result_of_all[key]['Class'].astype(str)\n",
    "    print(key,\"finish concat\")\n",
    "    "
   ]
  },
  {
   "cell_type": "code",
   "execution_count": 15,
   "id": "e9d2126f",
   "metadata": {},
   "outputs": [
    {
     "name": "stdout",
     "output_type": "stream",
     "text": [
      "{'KIRC': 29, 'BRCA': 56, 'LUAD': 33, 'COAD': 78, 'PRAD': 136}\n"
     ]
    }
   ],
   "source": [
    "test_label = pd.read_csv(r\"D:\\Github\\Data_Mining_113-2\\Data_Mining_Final\\dataset\\test_label.csv\")\n",
    "\"\"\"\n",
    "known: KIRC,BRCA,LUAD\n",
    "unknown: COAD, PRAD\n",
    "\"\"\"\n",
    "np.unique(test_label[\"Class\"])\n",
    "Class = {'KIRC':0, 'BRCA':0, 'LUAD':0, 'COAD':0, 'PRAD':0}\n",
    "for key in Class:\n",
    "    Class[key]=sum(test_label[\"Class\"]==key)\n",
    "test_label.rename(columns={'id': 'ID','Class':'Ans'}, inplace=True)\n",
    "print(Class)"
   ]
  },
  {
   "cell_type": "code",
   "execution_count": 5,
   "id": "912e02ce",
   "metadata": {},
   "outputs": [
    {
     "name": "stdout",
     "output_type": "stream",
     "text": [
      "['sample_26', 'sample_47', 'sample_54', 'sample_57', 'sample_65', 'sample_79', 'sample_96', 'sample_107', 'sample_130', 'sample_132', 'sample_139', 'sample_145', 'sample_166', 'sample_180', 'sample_232', 'sample_237', 'sample_249', 'sample_252', 'sample_260', 'sample_261', 'sample_263', 'sample_264', 'sample_272', 'sample_302', 'sample_308', 'sample_312', 'sample_321', 'sample_339', 'sample_353', 'sample_354', 'sample_361', 'sample_363', 'sample_371', 'sample_379', 'sample_382', 'sample_383', 'sample_387', 'sample_400', 'sample_414', 'sample_431', 'sample_444', 'sample_464', 'sample_466', 'sample_473', 'sample_490', 'sample_493', 'sample_501', 'sample_503', 'sample_510', 'sample_530', 'sample_531', 'sample_539', 'sample_542', 'sample_553', 'sample_561', 'sample_570', 'sample_585', 'sample_588', 'sample_590', 'sample_597', 'sample_607', 'sample_613', 'sample_618', 'sample_634', 'sample_650', 'sample_652', 'sample_662', 'sample_665', 'sample_670', 'sample_692', 'sample_693', 'sample_713', 'sample_732', 'sample_745', 'sample_755', 'sample_766', 'sample_767', 'sample_798']\n",
      "['sample_0', 'sample_2', 'sample_3', 'sample_5', 'sample_7', 'sample_9', 'sample_12', 'sample_19', 'sample_34', 'sample_41', 'sample_42', 'sample_46', 'sample_53', 'sample_64', 'sample_67', 'sample_78', 'sample_81', 'sample_84', 'sample_85', 'sample_90', 'sample_91', 'sample_95', 'sample_98', 'sample_110', 'sample_113', 'sample_124', 'sample_125', 'sample_126', 'sample_141', 'sample_146', 'sample_157', 'sample_158', 'sample_160', 'sample_164', 'sample_177', 'sample_183', 'sample_184', 'sample_185', 'sample_193', 'sample_205', 'sample_207', 'sample_212', 'sample_214', 'sample_227', 'sample_231', 'sample_235', 'sample_242', 'sample_243', 'sample_251', 'sample_254', 'sample_256', 'sample_257', 'sample_258', 'sample_265', 'sample_273', 'sample_275', 'sample_299', 'sample_304', 'sample_310', 'sample_315', 'sample_330', 'sample_335', 'sample_338', 'sample_348', 'sample_365', 'sample_372', 'sample_374', 'sample_377', 'sample_384', 'sample_390', 'sample_401', 'sample_404', 'sample_411', 'sample_413', 'sample_425', 'sample_427', 'sample_433', 'sample_443', 'sample_448', 'sample_450', 'sample_465', 'sample_471', 'sample_477', 'sample_478', 'sample_480', 'sample_483', 'sample_486', 'sample_496', 'sample_499', 'sample_517', 'sample_519', 'sample_525', 'sample_526', 'sample_537', 'sample_548', 'sample_557', 'sample_565', 'sample_571', 'sample_579', 'sample_584', 'sample_587', 'sample_600', 'sample_601', 'sample_609', 'sample_610', 'sample_620', 'sample_624', 'sample_640', 'sample_656', 'sample_657', 'sample_658', 'sample_660', 'sample_661', 'sample_674', 'sample_678', 'sample_680', 'sample_684', 'sample_686', 'sample_687', 'sample_690', 'sample_704', 'sample_707', 'sample_709', 'sample_714', 'sample_715', 'sample_717', 'sample_731', 'sample_741', 'sample_743', 'sample_752', 'sample_754', 'sample_783', 'sample_788', 'sample_794', 'sample_799', 'sample_800']\n"
     ]
    }
   ],
   "source": [
    "COAD=[];PRAD=[];COAD_replacement={};PRAD_replacement={}\n",
    "for sample in test_label[test_label[\"Ans\"]==\"COAD\"][\"ID\"]:\n",
    "    COAD.append(sample)\n",
    "for sample in test_label[test_label[\"Ans\"]==\"PRAD\"][\"ID\"]:\n",
    "    PRAD.append(sample)\n",
    "print(COAD)\n",
    "print(PRAD)"
   ]
  },
  {
   "cell_type": "code",
   "execution_count": 6,
   "id": "c71d46ef",
   "metadata": {},
   "outputs": [],
   "source": [
    "\"\"\"PRAD\"\"\"\n",
    "for key in result_of_all:\n",
    "    coad_result=[]\n",
    "    for id in PRAD:\n",
    "        coad_result.append(result_of_all[key][result_of_all[key][\"ID\"] == id][\"Class\"])\n",
    "    class_name, class_count=np.unique(coad_result, return_counts=True)\n",
    "    dic=dict(zip(class_name, class_count))\n",
    "    PRAD_replacement[key]=max(dic, key=dic.get)"
   ]
  },
  {
   "cell_type": "code",
   "execution_count": 7,
   "id": "0dfb91d2",
   "metadata": {},
   "outputs": [],
   "source": [
    "\"\"\"COAD\"\"\"\n",
    "for key in result_of_all:\n",
    "    coad_result=[]\n",
    "    for id in COAD:\n",
    "        coad_result.append(result_of_all[key][result_of_all[key][\"ID\"] == id][\"Class\"])\n",
    "    class_name, class_count=np.unique(coad_result, return_counts=True)\n",
    "    dic=dict(zip(class_name, class_count))\n",
    "    COAD_replacement[key]=max(dic, key=dic.get)\n"
   ]
  },
  {
   "cell_type": "code",
   "execution_count": 8,
   "id": "f2b3e037",
   "metadata": {},
   "outputs": [
    {
     "name": "stdout",
     "output_type": "stream",
     "text": [
      "             ID Class   Ans\n",
      "0      sample_0  PRAD  PRAD\n",
      "1      sample_2  PRAD  PRAD\n",
      "2      sample_3  PRAD  PRAD\n",
      "3      sample_5  PRAD  PRAD\n",
      "4      sample_6  PRAD  KIRC\n",
      "..          ...   ...   ...\n",
      "327  sample_510  LUAD  COAD\n",
      "328  sample_620  BRCA  PRAD\n",
      "329  sample_717  BRCA  PRAD\n",
      "330  sample_741  BRCA  PRAD\n",
      "331  sample_755  LUAD  COAD\n",
      "\n",
      "[332 rows x 3 columns]\n",
      "             ID       Class   Ans\n",
      "0    sample_189  unknown -1  LUAD\n",
      "1    sample_320  unknown -1  LUAD\n",
      "2    sample_288  unknown -1  KIRC\n",
      "3      sample_6  unknown -1  KIRC\n",
      "4     sample_13  unknown -1  BRCA\n",
      "..          ...         ...   ...\n",
      "327  sample_510        LUAD  COAD\n",
      "328  sample_620        BRCA  PRAD\n",
      "329  sample_717        BRCA  PRAD\n",
      "330  sample_741        BRCA  PRAD\n",
      "331  sample_755        LUAD  COAD\n",
      "\n",
      "[332 rows x 3 columns]\n",
      "             ID Class   Ans\n",
      "0    sample_189  COAD  LUAD\n",
      "1    sample_320  COAD  LUAD\n",
      "2    sample_288  PRAD  KIRC\n",
      "3      sample_6  PRAD  KIRC\n",
      "4     sample_13  PRAD  BRCA\n",
      "..          ...   ...   ...\n",
      "327  sample_510  LUAD  COAD\n",
      "328  sample_620  BRCA  PRAD\n",
      "329  sample_717  BRCA  PRAD\n",
      "330  sample_741  BRCA  PRAD\n",
      "331  sample_755  LUAD  COAD\n",
      "\n",
      "[332 rows x 3 columns]\n",
      "             ID Class   Ans\n",
      "0      sample_0  PRAD  PRAD\n",
      "1      sample_2  PRAD  PRAD\n",
      "2      sample_5  PRAD  PRAD\n",
      "3      sample_6  PRAD  KIRC\n",
      "4      sample_7  PRAD  PRAD\n",
      "..          ...   ...   ...\n",
      "327  sample_492  KIRC  KIRC\n",
      "328  sample_573  BRCA  BRCA\n",
      "329  sample_454  BRCA  BRCA\n",
      "330    sample_3  BRCA  PRAD\n",
      "331  sample_579  BRCA  PRAD\n",
      "\n",
      "[332 rows x 3 columns]\n",
      "             ID       Class   Ans\n",
      "0      sample_6  unknown -1  KIRC\n",
      "1    sample_475  unknown -1  LUAD\n",
      "2    sample_577  unknown -1  LUAD\n",
      "3    sample_106  unknown -1  LUAD\n",
      "4    sample_373  unknown -1  LUAD\n",
      "..          ...         ...   ...\n",
      "327  sample_492        KIRC  KIRC\n",
      "328  sample_573        BRCA  BRCA\n",
      "329  sample_454        BRCA  BRCA\n",
      "330    sample_3        BRCA  PRAD\n",
      "331  sample_579        BRCA  PRAD\n",
      "\n",
      "[332 rows x 3 columns]\n",
      "             ID Class   Ans\n",
      "0      sample_6  PRAD  KIRC\n",
      "1    sample_475  COAD  LUAD\n",
      "2    sample_577  COAD  LUAD\n",
      "3    sample_106  COAD  LUAD\n",
      "4    sample_373  COAD  LUAD\n",
      "..          ...   ...   ...\n",
      "327  sample_492  KIRC  KIRC\n",
      "328  sample_573  BRCA  BRCA\n",
      "329  sample_454  BRCA  BRCA\n",
      "330    sample_3  BRCA  PRAD\n",
      "331  sample_579  BRCA  PRAD\n",
      "\n",
      "[332 rows x 3 columns]\n"
     ]
    }
   ],
   "source": [
    "for key in result_of_all:\n",
    "    result_of_all[key][\"Class\"]=result_of_all[key][\"Class\"].replace({COAD_replacement[key]: 'COAD', PRAD_replacement[key]: 'PRAD'})\n",
    "    result_of_all[key]=pd.merge(result_of_all[key], test_label, on='ID')\n",
    "    print(result_of_all[key])"
   ]
  },
  {
   "cell_type": "code",
   "execution_count": 9,
   "id": "a9287955",
   "metadata": {},
   "outputs": [],
   "source": [
    "import matplotlib.pyplot as plt"
   ]
  },
  {
   "cell_type": "code",
   "execution_count": 10,
   "id": "2503a547",
   "metadata": {},
   "outputs": [],
   "source": [
    "def add_labels(x, y):\n",
    "    for i in range(len(x)):\n",
    "        plt.text(i, y[i], y[i], ha='center',c='white')  # Aligning text at center"
   ]
  },
  {
   "cell_type": "code",
   "execution_count": 24,
   "id": "38ff5e70",
   "metadata": {},
   "outputs": [
    {
     "name": "stdout",
     "output_type": "stream",
     "text": [
      "[ KNN-Agglomerative ]\n",
      "Confusion Matrix:\n",
      "pred  BRCA  COAD  KIRC  LUAD  PRAD\n",
      "true                              \n",
      "BRCA    53     3     0     0     0\n",
      "COAD     0    76     0     2     0\n",
      "KIRC     0     1    26     0     2\n",
      "LUAD     0     8     0    25     0\n",
      "PRAD     4     0     0     0   132\n",
      "\n",
      "Purity Score: 0.9398\n",
      "\n",
      "[ KNN-DBSCAN ]\n",
      "Confusion Matrix:\n",
      "pred  BRCA  COAD  KIRC  LUAD  PRAD  unknown -1\n",
      "true                                          \n",
      "BRCA    53     0     0     0     0           3\n",
      "COAD     0    75     0     2     0           1\n",
      "KIRC     0     0    26     0     0           3\n",
      "LUAD     0     0     0    25     0           8\n",
      "PRAD     4     0     0     0   130           2\n",
      "\n",
      "Purity Score: 0.9548\n",
      "\n",
      "[ KNN-Spectral ]\n",
      "Confusion Matrix:\n",
      "pred  BRCA  COAD  KIRC  LUAD  PRAD\n",
      "true                              \n",
      "BRCA    53     2     0     0     1\n",
      "COAD     0    76     0     2     0\n",
      "KIRC     0     0    26     0     3\n",
      "LUAD     0     7     0    25     1\n",
      "PRAD     4     0     0     0   132\n",
      "\n",
      "Purity Score: 0.9398\n",
      "\n",
      "[ RF-Agglomerative ]\n",
      "Confusion Matrix:\n",
      "pred  BRCA  COAD  KIRC  LUAD  PRAD\n",
      "true                              \n",
      "BRCA    56     0     0     0     0\n",
      "COAD     0    78     0     0     0\n",
      "KIRC     0     0    28     0     1\n",
      "LUAD     0     6     0    27     0\n",
      "PRAD     2     0     0     0   134\n",
      "\n",
      "Purity Score: 0.9729\n",
      "\n",
      "[ RF-DBSCAN ]\n",
      "Confusion Matrix:\n",
      "pred  BRCA  COAD  KIRC  LUAD  PRAD  unknown -1\n",
      "true                                          \n",
      "BRCA    56     0     0     0     0           0\n",
      "COAD     0    77     0     0     0           1\n",
      "KIRC     0     0    28     0     0           1\n",
      "LUAD     0     0     0    27     0           6\n",
      "PRAD     2     0     0     0   132           2\n",
      "\n",
      "Purity Score: 0.9819\n",
      "\n",
      "[ RF-Spectral ]\n",
      "Confusion Matrix:\n",
      "pred  BRCA  COAD  KIRC  LUAD  PRAD\n",
      "true                              \n",
      "BRCA    56     0     0     0     0\n",
      "COAD     0    78     0     0     0\n",
      "KIRC     0     0    28     0     1\n",
      "LUAD     0     6     0    27     0\n",
      "PRAD     2     0     0     0   134\n",
      "\n",
      "Purity Score: 0.9729\n",
      "\n"
     ]
    }
   ],
   "source": [
    "p={}\n",
    "def clustering_evaluation(key,y_true, y_pred):\n",
    "    df = pd.DataFrame({'true': y_true, 'pred': y_pred})\n",
    "\n",
    "    # 混淆矩陣\n",
    "    confusion = pd.crosstab(df['true'], df['pred'])\n",
    "\n",
    "    # Purity 計算：每個 predicted cluster 中最多的正確 label 數量加總 / 全部樣本\n",
    "    purity = confusion.max(axis=0).sum() / confusion.values.sum()\n",
    "    p[key]=purity*100\n",
    "    print(\"Confusion Matrix:\")\n",
    "    print(confusion)\n",
    "    print(\"\\nPurity Score:\", round(purity, 4))\n",
    "for key in result_of_all:\n",
    "    print(\"[\",key,\"]\")\n",
    "    clustering_evaluation(key,result_of_all[key][\"Ans\"], result_of_all[key][\"Class\"])\n",
    "    print()\n"
   ]
  },
  {
   "cell_type": "code",
   "execution_count": null,
   "id": "d140b2cb",
   "metadata": {},
   "outputs": [
    {
     "data": {
      "text/plain": [
       "<matplotlib.legend.Legend at 0x25ce2e570e0>"
      ]
     },
     "execution_count": 27,
     "metadata": {},
     "output_type": "execute_result"
    },
    {
     "data": {
      "image/png": "[encoded data removed]",
      "text/plain": [
       "<Figure size 640x480 with 1 Axes>"
      ]
     },
     "metadata": {},
     "output_type": "display_data"
    }
   ],
   "source": [
    "accuracy={}\n",
    "for key in result_of_all:\n",
    "    accuracy[key]=round(sum(result_of_all[key][\"Class\"]==result_of_all[key][\"Ans\"])/len(test_label)*100, 2)\n",
    "df=pd.DataFrame({\n",
    "    \"Algorithms\":list(accuracy.keys()),\n",
    "    \"accuracy\":list(accuracy.values()),\n",
    "    \"purity\":list(p.values()),\n",
    "})\n",
    "ax = df.plot(kind='barh', ylabel='Algorithms')\n",
    "ax.set(xlabel='Value(in percentage)')\n",
    "for c in ax.containers:\n",
    "    # set the bar label\n",
    "    ax.bar_label(c, fmt='%.2f', label_type='edge')\n",
    "    \n",
    "ax.margins(x=0.1)\n",
    "\n",
    "# move the legend out of the plot\n",
    "ax.legend(title='Columns', bbox_to_anchor=(1, 0.5), loc='center left', frameon=False)\n"
   ]
  }
 ],
 "metadata": {
  "kernelspec": {
   "display_name": "Python 3",
   "language": "python",
   "name": "python3"
  },
  "language_info": {
   "codemirror_mode": {
    "name": "ipython",
    "version": 3
   },
   "file_extension": ".py",
   "mimetype": "text/x-python",
   "name": "python",
   "nbconvert_exporter": "python",
   "pygments_lexer": "ipython3",
   "version": "3.12.4"
  }
 },
 "nbformat": 4,
 "nbformat_minor": 5
}
