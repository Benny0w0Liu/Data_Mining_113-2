{
 "cells": [
  {
   "cell_type": "code",
   "execution_count": 8,
   "id": "a08ff1a2",
   "metadata": {},
   "outputs": [],
   "source": [
    "import pandas as pd\n",
    "import numpy as np"
   ]
  },
  {
   "cell_type": "code",
   "execution_count": null,
   "id": "8cc5d78a",
   "metadata": {},
   "outputs": [],
   "source": [
    "import pandas as pd\n",
    "import numpy as np"
   ]
  },
  {
   "cell_type": "code",
   "execution_count": null,
   "id": "0f12071e",
   "metadata": {},
   "outputs": [],
   "source": [
    "result_of_all={}\n",
    "result_of_all[\"KNN-Agglomerative\"]=pd.read_csv(r\"D:\\Github\\Data_Mining_113-2\\Data_Mining_Final\\clustering\\result\\KNN-Agglomerative_clustering_result.csv\")\n",
    "result_of_all[\"KNN-DBSCAN\"]=pd.read_csv(r\"D:\\Github\\Data_Mining_113-2\\Data_Mining_Final\\clustering\\result\\KNN-DBSCAN_clustering_result.csv\")\n",
    "result_of_all[\"KNN-Spectral\"]=pd.read_csv(r\"D:\\Github\\Data_Mining_113-2\\Data_Mining_Final\\clustering\\result\\KNN-Spectral_clustering_result.csv\")\n",
    "result_of_all[\"RF-Agglomerative\"]=pd.read_csv(r\"D:\\Github\\Data_Mining_113-2\\Data_Mining_Final\\clustering\\result\\RF-Agglomerative_clustering_result.csv\")\n",
    "result_of_all[\"RF-DBSCAN\"]=pd.read_csv(r\"D:\\Github\\Data_Mining_113-2\\Data_Mining_Final\\clustering\\result\\RF-DBSCAN_clustering_result.csv\")\n",
    "result_of_all[\"RF-Spectral\"]=pd.read_csv(r\"D:\\Github\\Data_Mining_113-2\\Data_Mining_Final\\clustering\\result\\RF-Spectral_clustering_result.csv\")\n",
    "for key in result_of_all:\n",
    "    if key[:3]==\"KNN\":\n",
    "        result_of_all[key] = pd.concat([result_of_all[key], pd.read_csv(r\"D:\\Github\\Data_Mining_113-2\\Data_Mining_Final\\classification\\result\\KNN_known.csv\")], ignore_index=True)\n",
    "    else:\n",
    "        result_of_all[key] = pd.concat([result_of_all[key], pd.read_csv(r\"D:\\Github\\Data_Mining_113-2\\Data_Mining_Final\\classification\\result\\RF_known.csv\")], ignore_index=True)\n"
   ]
  },
  {
   "cell_type": "code",
   "execution_count": 9,
   "id": "e9d2126f",
   "metadata": {},
   "outputs": [
    {
     "name": "stdout",
     "output_type": "stream",
     "text": [
      "{'KIRC': 29, 'BRCA': 56, 'LUAD': 33, 'COAD': 78, 'PRAD': 136}\n"
     ]
    }
   ],
   "source": [
    "test_label = pd.read_csv(r\"D:\\Github\\Data_Mining_113-2\\Data_Mining_Final\\dataset\\test_label.csv\")\n",
    "\"\"\"\n",
    "known: KIRC,BRCA,LUAD\n",
    "unknown: COAD, PRAD\n",
    "\"\"\"\n",
    "np.unique(test_label[\"Class\"])\n",
    "Class = {'KIRC':0, 'BRCA':0, 'LUAD':0, 'COAD':0, 'PRAD':0}\n",
    "for key in Class:\n",
    "    Class[key]=sum(test_label[\"Class\"]==key)\n",
    "print(Class)"
   ]
  }
 ],
 "metadata": {
  "kernelspec": {
   "display_name": "Python 3",
   "language": "python",
   "name": "python3"
  },
  "language_info": {
   "codemirror_mode": {
    "name": "ipython",
    "version": 3
   },
   "file_extension": ".py",
   "mimetype": "text/x-python",
   "name": "python",
   "nbconvert_exporter": "python",
   "pygments_lexer": "ipython3",
   "version": "3.12.4"
  }
 },
 "nbformat": 4,
 "nbformat_minor": 5
}
